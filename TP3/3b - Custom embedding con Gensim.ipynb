{
 "cells": [
  {
   "attachments": {},
   "cell_type": "markdown",
   "metadata": {
    "id": "sZd5yLnnHOK0"
   },
   "source": [
    "<img src=\"https://github.com/hernancontigiani/ceia_memorias_especializacion/raw/master/Figures/logoFIUBA.jpg\" width=\"500\" align=\"center\">\n",
    "\n",
    "\n",
    "# Procesamiento de lenguaje natural\n",
    "## Custom embedddings con Gensim\n",
    "\n"
   ]
  },
  {
   "attachments": {},
   "cell_type": "markdown",
   "metadata": {
    "id": "vA7nqkumo9z9"
   },
   "source": [
    "### Objetivo\n",
    "El objetivo es utilizar documentos / corpus para crear embeddings de palabras basado en ese contexto. Se utilizará canciones de bandas para generar los embeddings, es decir, que los vectores tendrán la forma en función de como esa banda haya utilizado las palabras en sus canciones."
   ]
  },
  {
   "cell_type": "code",
   "execution_count": 1,
   "metadata": {
    "id": "lFToQs5FK5uZ"
   },
   "outputs": [],
   "source": [
    "import pandas as pd\n",
    "import matplotlib.pyplot as plt\n",
    "import seaborn as sns\n",
    "\n",
    "import multiprocessing\n",
    "from gensim.models import Word2Vec"
   ]
  },
  {
   "attachments": {},
   "cell_type": "markdown",
   "metadata": {
    "id": "g07zJxG7H9vG"
   },
   "source": [
    "### Datos\n",
    "Utilizaremos como dataset canciones de bandas de habla inglesa."
   ]
  },
  {
   "cell_type": "code",
   "execution_count": 2,
   "metadata": {
    "id": "mysGrIw9ljC2"
   },
   "outputs": [],
   "source": [
    "# Posibles bandas\n",
    "directory = \"./news/Fake.csv\""
   ]
  },
  {
   "cell_type": "code",
   "execution_count": 3,
   "metadata": {
    "id": "ticoqYD1Z3I7"
   },
   "outputs": [
    {
     "data": {
      "text/html": [
       "<div>\n",
       "<style scoped>\n",
       "    .dataframe tbody tr th:only-of-type {\n",
       "        vertical-align: middle;\n",
       "    }\n",
       "\n",
       "    .dataframe tbody tr th {\n",
       "        vertical-align: top;\n",
       "    }\n",
       "\n",
       "    .dataframe thead th {\n",
       "        text-align: right;\n",
       "    }\n",
       "</style>\n",
       "<table border=\"1\" class=\"dataframe\">\n",
       "  <thead>\n",
       "    <tr style=\"text-align: right;\">\n",
       "      <th></th>\n",
       "      <th>title</th>\n",
       "      <th>text</th>\n",
       "      <th>subject</th>\n",
       "      <th>date</th>\n",
       "    </tr>\n",
       "  </thead>\n",
       "  <tbody>\n",
       "    <tr>\n",
       "      <th>0</th>\n",
       "      <td>Donald Trump Sends Out Embarrassing New Year’...</td>\n",
       "      <td>Donald Trump just couldn t wish all Americans ...</td>\n",
       "      <td>News</td>\n",
       "      <td>December 31, 2017</td>\n",
       "    </tr>\n",
       "    <tr>\n",
       "      <th>1</th>\n",
       "      <td>Drunk Bragging Trump Staffer Started Russian ...</td>\n",
       "      <td>House Intelligence Committee Chairman Devin Nu...</td>\n",
       "      <td>News</td>\n",
       "      <td>December 31, 2017</td>\n",
       "    </tr>\n",
       "    <tr>\n",
       "      <th>2</th>\n",
       "      <td>Sheriff David Clarke Becomes An Internet Joke...</td>\n",
       "      <td>On Friday, it was revealed that former Milwauk...</td>\n",
       "      <td>News</td>\n",
       "      <td>December 30, 2017</td>\n",
       "    </tr>\n",
       "    <tr>\n",
       "      <th>3</th>\n",
       "      <td>Trump Is So Obsessed He Even Has Obama’s Name...</td>\n",
       "      <td>On Christmas day, Donald Trump announced that ...</td>\n",
       "      <td>News</td>\n",
       "      <td>December 29, 2017</td>\n",
       "    </tr>\n",
       "    <tr>\n",
       "      <th>4</th>\n",
       "      <td>Pope Francis Just Called Out Donald Trump Dur...</td>\n",
       "      <td>Pope Francis used his annual Christmas Day mes...</td>\n",
       "      <td>News</td>\n",
       "      <td>December 25, 2017</td>\n",
       "    </tr>\n",
       "  </tbody>\n",
       "</table>\n",
       "</div>"
      ],
      "text/plain": [
       "                                               title  \\\n",
       "0   Donald Trump Sends Out Embarrassing New Year’...   \n",
       "1   Drunk Bragging Trump Staffer Started Russian ...   \n",
       "2   Sheriff David Clarke Becomes An Internet Joke...   \n",
       "3   Trump Is So Obsessed He Even Has Obama’s Name...   \n",
       "4   Pope Francis Just Called Out Donald Trump Dur...   \n",
       "\n",
       "                                                text subject  \\\n",
       "0  Donald Trump just couldn t wish all Americans ...    News   \n",
       "1  House Intelligence Committee Chairman Devin Nu...    News   \n",
       "2  On Friday, it was revealed that former Milwauk...    News   \n",
       "3  On Christmas day, Donald Trump announced that ...    News   \n",
       "4  Pope Francis used his annual Christmas Day mes...    News   \n",
       "\n",
       "                date  \n",
       "0  December 31, 2017  \n",
       "1  December 31, 2017  \n",
       "2  December 30, 2017  \n",
       "3  December 29, 2017  \n",
       "4  December 25, 2017  "
      ]
     },
     "execution_count": 3,
     "metadata": {},
     "output_type": "execute_result"
    }
   ],
   "source": [
    "# Armar el dataset utilizando salto de línea para separar las oraciones/docs\n",
    "df = pd.read_csv(directory)\n",
    "df.head()"
   ]
  },
  {
   "cell_type": "code",
   "execution_count": 4,
   "metadata": {
    "id": "LEpKubK9XzXN"
   },
   "outputs": [
    {
     "name": "stdout",
     "output_type": "stream",
     "text": [
      "Cantidad de documentos: 23481\n"
     ]
    }
   ],
   "source": [
    "print(\"Cantidad de documentos:\", df.shape[0])"
   ]
  },
  {
   "attachments": {},
   "cell_type": "markdown",
   "metadata": {
    "id": "ab94qaFlrA1G"
   },
   "source": [
    "### 1 - Preprocesamiento"
   ]
  },
  {
   "cell_type": "code",
   "execution_count": 5,
   "metadata": {
    "id": "rIsmMWmjrDHd"
   },
   "outputs": [],
   "source": [
    "from keras.preprocessing.text import text_to_word_sequence\n",
    "\n",
    "sentence_tokens = []\n",
    "# Recorrer todas las filas y transformar las oraciones\n",
    "# en una secuencia de palabras (esto podría realizarse con NLTK o spaCy también)\n",
    "for _, row in df[:None].iterrows():\n",
    "    sentence_tokens.append(text_to_word_sequence(row[0]))"
   ]
  },
  {
   "cell_type": "code",
   "execution_count": 6,
   "metadata": {
    "id": "CHepi_DGrbhq"
   },
   "outputs": [
    {
     "data": {
      "text/plain": [
       "[['donald',\n",
       "  'trump',\n",
       "  'sends',\n",
       "  'out',\n",
       "  'embarrassing',\n",
       "  'new',\n",
       "  'year’s',\n",
       "  'eve',\n",
       "  'message',\n",
       "  'this',\n",
       "  'is',\n",
       "  'disturbing'],\n",
       " ['drunk',\n",
       "  'bragging',\n",
       "  'trump',\n",
       "  'staffer',\n",
       "  'started',\n",
       "  'russian',\n",
       "  'collusion',\n",
       "  'investigation']]"
      ]
     },
     "execution_count": 6,
     "metadata": {},
     "output_type": "execute_result"
    }
   ],
   "source": [
    "# Demos un vistazo\n",
    "sentence_tokens[:2]"
   ]
  },
  {
   "attachments": {},
   "cell_type": "markdown",
   "metadata": {
    "id": "BaXV6nlHr5Aa"
   },
   "source": [
    "### 2 - Crear los vectores (word2vec)"
   ]
  },
  {
   "cell_type": "code",
   "execution_count": 7,
   "metadata": {
    "id": "OSb0v7h8r7hK"
   },
   "outputs": [],
   "source": [
    "from gensim.models.callbacks import CallbackAny2Vec\n",
    "# Durante el entrenamiento gensim por defecto no informa el \"loss\" en cada época\n",
    "# Sobrecargamos el callback para poder tener esta información\n",
    "class callback(CallbackAny2Vec):\n",
    "    \"\"\"\n",
    "    Callback to print loss after each epoch\n",
    "    \"\"\"\n",
    "    def __init__(self):\n",
    "        self.epoch = 0\n",
    "\n",
    "    def on_epoch_end(self, model):\n",
    "        loss = model.get_latest_training_loss()\n",
    "        if self.epoch == 0:\n",
    "            print('Loss after epoch {}: {}'.format(self.epoch, loss))\n",
    "        else:\n",
    "            print('Loss after epoch {}: {}'.format(self.epoch, loss- self.loss_previous_step))\n",
    "        self.epoch += 1\n",
    "        self.loss_previous_step = loss"
   ]
  },
  {
   "cell_type": "code",
   "execution_count": 8,
   "metadata": {
    "id": "i0wnDdv9sJ47"
   },
   "outputs": [],
   "source": [
    "# Crearmos el modelo generador de vectores\n",
    "# En este caso utilizaremos la estructura modelo Skipgram\n",
    "w2v_model = Word2Vec(min_count=5,    # frecuencia mínima de palabra para incluirla en el vocabulario\n",
    "                     window=2,       # cant de palabras antes y desp de la predicha\n",
    "                     vector_size=300,       # dimensionalidad de los vectores \n",
    "                     negative=20,    # cantidad de negative samples... 0 es no se usa\n",
    "                     workers=1,      # si tienen más cores pueden cambiar este valor\n",
    "                     sg=1)           # modelo 0:CBOW  1:skipgram"
   ]
  },
  {
   "cell_type": "code",
   "execution_count": 9,
   "metadata": {
    "id": "5lTt8wErsf17"
   },
   "outputs": [],
   "source": [
    "# Obtener el vocabulario con los tokens\n",
    "w2v_model.build_vocab(sentence_tokens)"
   ]
  },
  {
   "cell_type": "code",
   "execution_count": 10,
   "metadata": {
    "id": "TNc9qt4os5AT"
   },
   "outputs": [
    {
     "name": "stdout",
     "output_type": "stream",
     "text": [
      "Cantidad de docs en el corpus: 23481\n"
     ]
    }
   ],
   "source": [
    "# Cantidad de filas/docs encontradas en el corpus\n",
    "print(\"Cantidad de docs en el corpus:\", w2v_model.corpus_count)"
   ]
  },
  {
   "cell_type": "code",
   "execution_count": 11,
   "metadata": {
    "id": "idw9cHF3tSMl"
   },
   "outputs": [
    {
     "name": "stdout",
     "output_type": "stream",
     "text": [
      "Cantidad de words distintas en el corpus: 6734\n"
     ]
    },
    {
     "data": {
      "text/plain": [
       "'\\n\"The vocab attribute was removed from KeyedVector in Gensim 4.0.0.\\n\"\\n\"Use KeyedVector\\'s .key_to_index dict, .index_to_key list, and methods \"\\n\".get_vecattr(key, attr) and .set_vecattr(key, attr, new_val) instead.\\n\"\\n\"See https://github.com/RaRe-Technologies/gensim/wiki/Migrating-from-Gensim-3.x-to-4\"\\n'"
      ]
     },
     "execution_count": 11,
     "metadata": {},
     "output_type": "execute_result"
    }
   ],
   "source": [
    "# Cantidad de words encontradas en el corpus\n",
    "print(\"Cantidad de words distintas en el corpus:\", len(w2v_model.wv.index_to_key))\n",
    "\n",
    "'''\n",
    "\"The vocab attribute was removed from KeyedVector in Gensim 4.0.0.\\n\"\n",
    "\"Use KeyedVector's .key_to_index dict, .index_to_key list, and methods \"\n",
    "\".get_vecattr(key, attr) and .set_vecattr(key, attr, new_val) instead.\\n\"\n",
    "\"See https://github.com/RaRe-Technologies/gensim/wiki/Migrating-from-Gensim-3.x-to-4\"\n",
    "'''"
   ]
  },
  {
   "attachments": {},
   "cell_type": "markdown",
   "metadata": {
    "id": "fC9mZ8DPk-UC"
   },
   "source": [
    "### 3 - Entrenar el modelo generador"
   ]
  },
  {
   "cell_type": "code",
   "execution_count": 12,
   "metadata": {
    "id": "QSp-x0PAsq56"
   },
   "outputs": [
    {
     "name": "stdout",
     "output_type": "stream",
     "text": [
      "Loss after epoch 0: 3113261.0\n",
      "Loss after epoch 1: 2095223.5\n",
      "Loss after epoch 2: 1962520.5\n",
      "Loss after epoch 3: 1870859.0\n",
      "Loss after epoch 4: 1765405.0\n",
      "Loss after epoch 5: 1707793.0\n",
      "Loss after epoch 6: 1653973.0\n",
      "Loss after epoch 7: 1604886.0\n",
      "Loss after epoch 8: 1537369.0\n",
      "Loss after epoch 9: 1443158.0\n",
      "Loss after epoch 10: 1404536.0\n",
      "Loss after epoch 11: 1372356.0\n",
      "Loss after epoch 12: 1340252.0\n",
      "Loss after epoch 13: 1312860.0\n",
      "Loss after epoch 14: 1288504.0\n",
      "Loss after epoch 15: 1265902.0\n",
      "Loss after epoch 16: 1251040.0\n",
      "Loss after epoch 17: 1235744.0\n",
      "Loss after epoch 18: 1227042.0\n",
      "Loss after epoch 19: 1220938.0\n"
     ]
    },
    {
     "data": {
      "text/plain": [
       "(5421054, 7049000)"
      ]
     },
     "execution_count": 12,
     "metadata": {},
     "output_type": "execute_result"
    }
   ],
   "source": [
    "# Entrenamos el modelo generador de vectores\n",
    "# Utilizamos nuestro callback\n",
    "w2v_model.train(sentence_tokens,\n",
    "                 total_examples=w2v_model.corpus_count,\n",
    "                 epochs=20,\n",
    "                 compute_loss = True,\n",
    "                 callbacks=[callback()]\n",
    "                 )"
   ]
  },
  {
   "attachments": {},
   "cell_type": "markdown",
   "metadata": {
    "id": "ddT9NVuNlCAe"
   },
   "source": [
    "### 4 - Ensayar"
   ]
  },
  {
   "cell_type": "code",
   "execution_count": 13,
   "metadata": {
    "id": "6cHN9xGLuPEm"
   },
   "outputs": [
    {
     "data": {
      "text/plain": [
       "[('editorial', 0.6316870450973511),\n",
       " ('spaces', 0.6303924918174744),\n",
       " ('twisted', 0.6198528409004211),\n",
       " ('journalism', 0.6168592572212219),\n",
       " ('patriotism', 0.6157949566841125),\n",
       " ('biker', 0.6094646453857422),\n",
       " ('savages', 0.6092650294303894),\n",
       " ('rhetoric”', 0.6087856888771057),\n",
       " ('waves', 0.6029744744300842),\n",
       " ('inflammatory', 0.5999173521995544)]"
      ]
     },
     "execution_count": 13,
     "metadata": {},
     "output_type": "execute_result"
    }
   ],
   "source": [
    "# Palabras que MÁS se relacionan con...:\n",
    "w2v_model.wv.most_similar(positive=[\"headline\"], topn=10)"
   ]
  },
  {
   "cell_type": "code",
   "execution_count": 14,
   "metadata": {
    "id": "47HiU5gdkdMq"
   },
   "outputs": [
    {
     "data": {
      "text/plain": [
       "[('into', 0.0500711165368557),\n",
       " ('hysterical', 0.025352858006954193),\n",
       " ('hilariously', 0.019717082381248474),\n",
       " ('late', 0.017960423603653908),\n",
       " ('while', 0.015972737222909927),\n",
       " ('calling', 0.013326420448720455),\n",
       " ('watch', 0.012024621479213238),\n",
       " ('audio', 0.011445322073996067),\n",
       " ('texas', 0.01050979271531105),\n",
       " ('book', 0.008429767563939095)]"
      ]
     },
     "execution_count": 14,
     "metadata": {},
     "output_type": "execute_result"
    }
   ],
   "source": [
    "# Palabras que MENOS se relacionan con...:\n",
    "w2v_model.wv.most_similar(negative=[\"government\"], topn=10)"
   ]
  },
  {
   "cell_type": "code",
   "execution_count": 15,
   "metadata": {
    "id": "DT4Rvno2mD65"
   },
   "outputs": [
    {
     "data": {
      "text/plain": [
       "[('seven', 0.6137977242469788),\n",
       " ('41', 0.6005611419677734),\n",
       " ('ten', 0.5680000185966492),\n",
       " ('five', 0.5525975227355957),\n",
       " ('53', 0.5524325370788574),\n",
       " ('wtf', 0.5480233430862427),\n",
       " ('76', 0.5334916710853577),\n",
       " ('83', 0.528716504573822),\n",
       " ('93', 0.5243951678276062),\n",
       " ('previously', 0.5237188339233398)]"
      ]
     },
     "execution_count": 15,
     "metadata": {},
     "output_type": "execute_result"
    }
   ],
   "source": [
    "# Palabras que MÁS se relacionan con...:\n",
    "w2v_model.wv.most_similar(positive=[\"four\"], topn=10)"
   ]
  },
  {
   "cell_type": "code",
   "execution_count": 16,
   "metadata": {
    "id": "XPLDPgzBmQXt"
   },
   "outputs": [
    {
     "data": {
      "text/plain": [
       "[('cash', 0.5081894397735596),\n",
       " ('laundering', 0.5021743178367615),\n",
       " ('bucks', 0.4899887442588806),\n",
       " ('toys', 0.4614701569080353),\n",
       " ('scheme', 0.45659297704696655)]"
      ]
     },
     "execution_count": 16,
     "metadata": {},
     "output_type": "execute_result"
    }
   ],
   "source": [
    "# Palabras que MÁS se relacionan con...:\n",
    "w2v_model.wv.most_similar(positive=[\"money\"], topn=5)"
   ]
  },
  {
   "cell_type": "code",
   "execution_count": 17,
   "metadata": {
    "id": "L_UvHPMMklOr"
   },
   "outputs": [
    {
     "ename": "KeyError",
     "evalue": "\"Key 'diedaa' not present in vocabulary\"",
     "output_type": "error",
     "traceback": [
      "\u001b[1;31m---------------------------------------------------------------------------\u001b[0m",
      "\u001b[1;31mKeyError\u001b[0m                                  Traceback (most recent call last)",
      "\u001b[1;32mg:\\My Drive\\Curso de Especializacion en Inteligencia Artificial\\Procesamiento del Lenguaje Natural\\Practicas\\PNL_TPs\\TP3\\3b - Custom embedding con Gensim.ipynb Cell 24\u001b[0m in \u001b[0;36m<cell line: 2>\u001b[1;34m()\u001b[0m\n\u001b[0;32m      <a href='vscode-notebook-cell:/g%3A/My%20Drive/Curso%20de%20Especializacion%20en%20Inteligencia%20Artificial/Procesamiento%20del%20Lenguaje%20Natural/Practicas/PNL_TPs/TP3/3b%20-%20Custom%20embedding%20con%20Gensim.ipynb#X33sZmlsZQ%3D%3D?line=0'>1</a>\u001b[0m \u001b[39m# Ensayar con una palabra que no está en el vocabulario:\u001b[39;00m\n\u001b[1;32m----> <a href='vscode-notebook-cell:/g%3A/My%20Drive/Curso%20de%20Especializacion%20en%20Inteligencia%20Artificial/Procesamiento%20del%20Lenguaje%20Natural/Practicas/PNL_TPs/TP3/3b%20-%20Custom%20embedding%20con%20Gensim.ipynb#X33sZmlsZQ%3D%3D?line=1'>2</a>\u001b[0m w2v_model\u001b[39m.\u001b[39;49mwv\u001b[39m.\u001b[39;49mmost_similar(negative\u001b[39m=\u001b[39;49m[\u001b[39m\"\u001b[39;49m\u001b[39mdiedaa\u001b[39;49m\u001b[39m\"\u001b[39;49m])\n",
      "File \u001b[1;32mc:\\Users\\Alejandro\\anaconda3\\envs\\pnl\\lib\\site-packages\\gensim\\models\\keyedvectors.py:841\u001b[0m, in \u001b[0;36mKeyedVectors.most_similar\u001b[1;34m(self, positive, negative, topn, clip_start, clip_end, restrict_vocab, indexer)\u001b[0m\n\u001b[0;32m    838\u001b[0m         weight[idx] \u001b[39m=\u001b[39m item[\u001b[39m1\u001b[39m]\n\u001b[0;32m    840\u001b[0m \u001b[39m# compute the weighted average of all keys\u001b[39;00m\n\u001b[1;32m--> 841\u001b[0m mean \u001b[39m=\u001b[39m \u001b[39mself\u001b[39;49m\u001b[39m.\u001b[39;49mget_mean_vector(keys, weight, pre_normalize\u001b[39m=\u001b[39;49m\u001b[39mTrue\u001b[39;49;00m, post_normalize\u001b[39m=\u001b[39;49m\u001b[39mTrue\u001b[39;49;00m, ignore_missing\u001b[39m=\u001b[39;49m\u001b[39mFalse\u001b[39;49;00m)\n\u001b[0;32m    842\u001b[0m all_keys \u001b[39m=\u001b[39m [\n\u001b[0;32m    843\u001b[0m     \u001b[39mself\u001b[39m\u001b[39m.\u001b[39mget_index(key) \u001b[39mfor\u001b[39;00m key \u001b[39min\u001b[39;00m keys \u001b[39mif\u001b[39;00m \u001b[39misinstance\u001b[39m(key, _KEY_TYPES) \u001b[39mand\u001b[39;00m \u001b[39mself\u001b[39m\u001b[39m.\u001b[39mhas_index_for(key)\n\u001b[0;32m    844\u001b[0m ]\n\u001b[0;32m    846\u001b[0m \u001b[39mif\u001b[39;00m indexer \u001b[39mis\u001b[39;00m \u001b[39mnot\u001b[39;00m \u001b[39mNone\u001b[39;00m \u001b[39mand\u001b[39;00m \u001b[39misinstance\u001b[39m(topn, \u001b[39mint\u001b[39m):\n",
      "File \u001b[1;32mc:\\Users\\Alejandro\\anaconda3\\envs\\pnl\\lib\\site-packages\\gensim\\models\\keyedvectors.py:518\u001b[0m, in \u001b[0;36mKeyedVectors.get_mean_vector\u001b[1;34m(self, keys, weights, pre_normalize, post_normalize, ignore_missing)\u001b[0m\n\u001b[0;32m    516\u001b[0m         total_weight \u001b[39m+\u001b[39m\u001b[39m=\u001b[39m \u001b[39mabs\u001b[39m(weights[idx])\n\u001b[0;32m    517\u001b[0m     \u001b[39melif\u001b[39;00m \u001b[39mnot\u001b[39;00m ignore_missing:\n\u001b[1;32m--> 518\u001b[0m         \u001b[39mraise\u001b[39;00m \u001b[39mKeyError\u001b[39;00m(\u001b[39mf\u001b[39m\u001b[39m\"\u001b[39m\u001b[39mKey \u001b[39m\u001b[39m'\u001b[39m\u001b[39m{\u001b[39;00mkey\u001b[39m}\u001b[39;00m\u001b[39m'\u001b[39m\u001b[39m not present in vocabulary\u001b[39m\u001b[39m\"\u001b[39m)\n\u001b[0;32m    520\u001b[0m \u001b[39mif\u001b[39;00m total_weight \u001b[39m>\u001b[39m \u001b[39m0\u001b[39m:\n\u001b[0;32m    521\u001b[0m     mean \u001b[39m=\u001b[39m mean \u001b[39m/\u001b[39m total_weight\n",
      "\u001b[1;31mKeyError\u001b[0m: \"Key 'diedaa' not present in vocabulary\""
     ]
    }
   ],
   "source": [
    "# Ensayar con una palabra que no está en el vocabulario:\n",
    "w2v_model.wv.most_similar(negative=[\"diedaa\"])"
   ]
  },
  {
   "attachments": {},
   "cell_type": "markdown",
   "metadata": {
    "id": "_g8UVWe6lFmh"
   },
   "source": [
    "### 5 - Visualizar agrupación de vectores"
   ]
  },
  {
   "cell_type": "code",
   "execution_count": 20,
   "metadata": {
    "id": "pDxEVXAivjr9"
   },
   "outputs": [],
   "source": [
    "from sklearn.decomposition import IncrementalPCA    \n",
    "from sklearn.manifold import TSNE                   \n",
    "import numpy as np                                  \n",
    "\n",
    "def reduce_dimensions(model):\n",
    "    num_dimensions = 2  \n",
    "\n",
    "    vectors = np.asarray(model.wv.vectors)\n",
    "    labels = np.asarray(model.wv.index_to_key)  \n",
    "\n",
    "    tsne = TSNE(n_components=num_dimensions, random_state=0)\n",
    "    vectors = tsne.fit_transform(vectors)\n",
    "\n",
    "    x_vals = [v[0] for v in vectors]\n",
    "    y_vals = [v[1] for v in vectors]\n",
    "    return x_vals, y_vals, labels"
   ]
  },
  {
   "cell_type": "code",
   "execution_count": 19,
   "metadata": {
    "id": "NCCXtDpcugmd"
   },
   "outputs": [
    {
     "data": {
      "application/vnd.plotly.v1+json": {
       "config": {
        "plotlyServerURL": "https://plot.ly"
       },
       "data": [
        {
         "hovertemplate": "x=%{x}<br>y=%{y}<br>text=%{text}<extra></extra>",
         "legendgroup": "",
         "marker": {
          "color": "#636efa",
          "symbol": "circle"
         },
         "mode": "markers+text",
         "name": "",
         "orientation": "v",
         "showlegend": false,
         "text": [
          "to",
          "video",
          "trump",
          "the",
          "of",
          "for",
          "in",
          "a",
          "on",
          "and",
          "is",
          "with",
          "watch",
          "obama",
          "hillary",
          "about",
          "his",
          "after",
          "trump’s",
          "just",
          "by",
          "at",
          "from",
          "this",
          "who",
          "president",
          "he",
          "out",
          "it",
          "are",
          "over",
          "as",
          "clinton",
          "not",
          "that",
          "be",
          "you",
          "will",
          "her",
          "breaking",
          "new",
          "him",
          "was",
          "black",
          "donald",
          "why",
          "up",
          "white",
          "how",
          "gop",
          "news",
          "–",
          "has",
          "obama’s",
          "muslim",
          "”",
          "media",
          "have",
          "what",
          "tweets",
          "down",
          "one",
          "anti",
          "us",
          "gets",
          "against",
          "s",
          "u",
          "bill",
          "says",
          "house",
          "their",
          "they",
          "america",
          "when",
          "it’s",
          "campaign",
          "during",
          "people",
          "fox",
          "cnn",
          "republicans",
          "if",
          "republican",
          "hillary’s",
          "calls",
          "all",
          "state",
          "off",
          "into",
          "more",
          "she",
          "racist",
          "fbi",
          "election",
          "liberal",
          "speech",
          "american",
          "no",
          "like",
          "being",
          "man",
          "an",
          "back",
          "them",
          "twitter",
          "democrat",
          "wow",
          "gun",
          "makes",
          "old",
          "goes",
          "democrats",
          "make",
          "your",
          "police",
          "bernie",
          "shows",
          "supporters",
          "get",
          "russia",
          "tweet",
          "he’s",
          "our",
          "host",
          "americans",
          "war",
          "woman",
          "tells",
          "won’t",
          "vote",
          "illegal",
          "so",
          "sanders",
          "former",
          "we",
          "first",
          "did",
          "fake",
          "attack",
          "cruz",
          "right",
          "than",
          "because",
          "time",
          "can",
          "don’t",
          "judge",
          "day",
          "while",
          "show",
          "should",
          "russian",
          "go",
          "million",
          "rally",
          "supporter",
          "caught",
          "room",
          "most",
          "senator",
          "hilarious",
          "court",
          "before",
          "gives",
          "details",
          "ted",
          "but",
          "women",
          "got",
          "year",
          "only",
          "would",
          "law",
          "going",
          "report",
          "want",
          "or",
          "left",
          "here’s",
          "party",
          "now",
          "response",
          "john",
          "reporter",
          "school",
          "huge",
          "take",
          "students",
          "lives",
          "can’t",
          "shocking",
          "do",
          "could",
          "top",
          "conservative",
          "cops",
          "i",
          "f",
          "live"
         ],
         "type": "scatter",
         "x": [
          14.22995376586914,
          11.874059677124023,
          6.5940022468566895,
          25.247337341308594,
          -12.72761058807373,
          9.514196395874023,
          -0.8277947902679443,
          2.7670822143554688,
          -3.222670316696167,
          10.89727783203125,
          19.34548568725586,
          -30.1940975189209,
          -4.869739055633545,
          31.48238754272461,
          -0.974858283996582,
          25.554555892944336,
          11.561713218688965,
          20.33535385131836,
          31.595457077026367,
          21.00971794128418,
          20.08718490600586,
          10.912107467651367,
          -8.802194595336914,
          22.843116760253906,
          18.488967895507812,
          8.921415328979492,
          22.42540168762207,
          4.008989334106445,
          27.518430709838867,
          16.142946243286133,
          5.589986801147461,
          13.4495267868042,
          -1.8284090757369995,
          12.531800270080566,
          23.818899154663086,
          19.953203201293945,
          23.860130310058594,
          -37.68391418457031,
          35.58698654174805,
          -12.150919914245605,
          -26.743751525878906,
          26.57267951965332,
          20.9575138092041,
          8.068049430847168,
          14.798502922058105,
          22.161684036254883,
          -32.884742736816406,
          17.07915687561035,
          9.313770294189453,
          -13.851444244384766,
          8.234393119812012,
          -32.55666732788086,
          28.894350051879883,
          -36.968658447265625,
          -13.931587219238281,
          21.7392520904541,
          28.653322219848633,
          30.065309524536133,
          25.74147605895996,
          13.409560203552246,
          -24.94705581665039,
          6.84246301651001,
          18.00653839111328,
          -21.205930709838867,
          9.915081977844238,
          11.567692756652832,
          -39.49299621582031,
          -39.492000579833984,
          -1.9546167850494385,
          34.08311462402344,
          16.421985626220703,
          -3.134040355682373,
          26.645917892456055,
          -9.668262481689453,
          22.44388198852539,
          23.561365127563477,
          11.075141906738281,
          7.1034135818481445,
          15.737473487854004,
          -2.192249059677124,
          1.8141562938690186,
          1.1407767534255981,
          27.44677734375,
          -22.209609985351562,
          5.761708736419678,
          -0.00363957230001688,
          14.890860557556152,
          -35.31072235107422,
          36.241477966308594,
          30.978544235229492,
          33.314109802246094,
          27.534130096435547,
          21.31545639038086,
          40.17090606689453,
          -16.35081672668457,
          0.8911561965942383,
          -36.17560958862305,
          -7.892068386077881,
          10.13148021697998,
          21.223825454711914,
          24.826772689819336,
          13.41141414642334,
          8.156402587890625,
          8.329010009765625,
          11.237274169921875,
          14.725458145141602,
          -24.07382583618164,
          -14.122396469116211,
          -19.76968765258789,
          7.497644901275635,
          -38.294342041015625,
          -2.3522682189941406,
          0.4554128348827362,
          -11.678963661193848,
          -11.334077835083008,
          6.527530193328857,
          -23.860708236694336,
          24.204608917236328,
          -6.846003532409668,
          24.624813079833984,
          5.5511155128479,
          14.758517265319824,
          27.894046783447266,
          -16.041486740112305,
          -0.7836372256278992,
          16.864791870117188,
          -10.121968269348145,
          17.552846908569336,
          -3.9838998317718506,
          26.140108108520508,
          -19.835126876831055,
          -15.150062561035156,
          27.831201553344727,
          -23.445266723632812,
          -16.465778350830078,
          24.636734008789062,
          -23.321300506591797,
          24.79843521118164,
          4.938250541687012,
          29.169357299804688,
          -7.995980262756348,
          17.13484001159668,
          32.32050323486328,
          24.34235191345215,
          11.917548179626465,
          28.32794952392578,
          26.834848403930664,
          -26.994787216186523,
          -11.869790077209473,
          12.771275520324707,
          8.505427360534668,
          27.172992706298828,
          5.687067031860352,
          28.04840850830078,
          -29.90879249572754,
          6.952157020568848,
          18.382705688476562,
          23.43988800048828,
          -33.05403518676758,
          18.007774353027344,
          -12.196276664733887,
          14.063475608825684,
          -28.335918426513672,
          -5.303196907043457,
          -10.156214714050293,
          -3.291745185852051,
          -8.563677787780762,
          28.8584041595459,
          18.631240844726562,
          29.415023803710938,
          -36.12209701538086,
          31.54336929321289,
          27.35028839111328,
          -21.51340675354004,
          28.192474365234375,
          -0.2646031379699707,
          26.171438217163086,
          -12.139084815979004,
          33.687355041503906,
          23.15798568725586,
          -23.029104232788086,
          -9.327779769897461,
          11.689448356628418,
          -10.525376319885254,
          1.2010222673416138,
          -2.589944362640381,
          -25.582622528076172,
          8.372151374816895,
          1.1638745069503784,
          8.71999454498291,
          28.805084228515625,
          -9.5181884765625,
          25.64995002746582,
          31.48394203186035,
          -13.138434410095215,
          -6.521873950958252,
          18.7054500579834,
          24.270740509033203,
          30.843080520629883,
          -31.91057586669922
         ],
         "xaxis": "x",
         "y": [
          -1.576762318611145,
          3.441835880279541,
          23.309444427490234,
          15.18065357208252,
          -2.487104892730713,
          -2.8755669593811035,
          -5.406533718109131,
          19.387041091918945,
          -2.110973596572876,
          5.156424522399902,
          9.111701011657715,
          19.394123077392578,
          29.60613441467285,
          13.957283020019531,
          4.242678165435791,
          7.9120612144470215,
          -17.60504913330078,
          -24.431427001953125,
          25.817398071289062,
          21.41786766052246,
          -18.37555503845215,
          -19.175689697265625,
          -14.330635070800781,
          0.5934036374092102,
          -37.53144836425781,
          -10.313894271850586,
          4.0789384841918945,
          -11.718403816223145,
          -1.665537714958191,
          -10.03160285949707,
          20.874492645263672,
          41.33637237548828,
          4.018341541290283,
          -0.14171969890594482,
          2.4797627925872803,
          -3.8553264141082764,
          -1.9586946964263916,
          5.90178108215332,
          0.9620344638824463,
          27.941478729248047,
          17.463956832885742,
          6.16682767868042,
          -19.689096450805664,
          -35.81453323364258,
          8.187941551208496,
          9.983524322509766,
          14.22610855102539,
          -20.03209686279297,
          5.339134216308594,
          36.5309944152832,
          32.168453216552734,
          -2.8235812187194824,
          7.781637191772461,
          -23.473066329956055,
          -24.521745681762695,
          -3.82207989692688,
          21.229644775390625,
          5.3150458335876465,
          10.252519607543945,
          23.844697952270508,
          6.922553539276123,
          12.027609825134277,
          25.302806854248047,
          -9.263569831848145,
          35.30680465698242,
          -42.86985397338867,
          -19.863544464111328,
          -19.864608764648438,
          3.8475639820098877,
          6.316359996795654,
          -20.18117904663086,
          -7.875792026519775,
          -6.558912754058838,
          1.6404544115066528,
          30.97071075439453,
          7.668228626251221,
          9.815362930297852,
          -43.134376525878906,
          -18.633447647094727,
          37.238189697265625,
          38.80094528198242,
          -12.044783592224121,
          2.083550453186035,
          15.139820098876953,
          3.7634785175323486,
          29.00798988342285,
          -9.580409049987793,
          -16.482263565063477,
          -0.3976094424724579,
          -25.670032501220703,
          1.0674878358840942,
          4.690727710723877,
          23.044090270996094,
          -5.025280952453613,
          -0.23327688872814178,
          33.16266632080078,
          9.879016876220703,
          -23.376928329467773,
          2.5087578296661377,
          -0.17302487790584564,
          -22.528079986572266,
          -21.621597290039062,
          6.998426914215088,
          9.911555290222168,
          -11.642143249511719,
          27.441194534301758,
          14.601385116577148,
          17.83323097229004,
          -40.96194076538086,
          19.28449058532715,
          -7.823138236999512,
          27.78565788269043,
          -12.304707527160645,
          -0.31615155935287476,
          -3.051121234893799,
          -38.8077507019043,
          22.845125198364258,
          20.625349044799805,
          15.993178367614746,
          -12.402497291564941,
          10.424779891967773,
          19.785358428955078,
          8.28318977355957,
          -1.3022650480270386,
          36.29774475097656,
          -13.687410354614258,
          -1.6734362840652466,
          -31.247224807739258,
          30.214874267578125,
          0.6686081290245056,
          -0.0739724412560463,
          -27.601261138916016,
          9.963862419128418,
          23.28368377685547,
          33.55345916748047,
          -1.1258198022842407,
          39.90487289428711,
          1.1390575170516968,
          9.492728233337402,
          -17.64588165283203,
          36.999088287353516,
          -2.1415648460388184,
          0.28414592146873474,
          -16.832605361938477,
          10.619484901428223,
          -5.060272216796875,
          -4.949168682098389,
          -23.503070831298828,
          3.1083261966705322,
          -30.509708404541016,
          10.192073822021484,
          -3.1819303035736084,
          9.832239151000977,
          -8.30184555053711,
          -9.85700798034668,
          -22.213363647460938,
          28.180728912353516,
          28.437095642089844,
          -2.276918888092041,
          18.024023056030273,
          36.958126068115234,
          18.485553741455078,
          -23.3664608001709,
          -7.661853790283203,
          29.569379806518555,
          -0.23637837171554565,
          37.94694519042969,
          2.651801347732544,
          -17.327594757080078,
          9.613099098205566,
          -7.889516830444336,
          -15.763291358947754,
          0.25285279750823975,
          -25.109981536865234,
          -2.849682569503784,
          11.57886791229248,
          -3.1981160640716553,
          -3.8621273040771484,
          -12.895416259765625,
          20.66763687133789,
          14.989752769470215,
          -10.16322135925293,
          17.719371795654297,
          36.297393798828125,
          35.73663330078125,
          -30.867708206176758,
          -8.128948211669922,
          -13.404590606689453,
          -31.006914138793945,
          -35.36103057861328,
          -4.127365589141846,
          7.93472957611084,
          -5.203360080718994,
          -1.6960135698318481,
          12.15471363067627,
          34.505043029785156,
          -18.638641357421875,
          -2.1842968463897705,
          -9.118571281433105,
          18.450702667236328
         ],
         "yaxis": "y"
        }
       ],
       "layout": {
        "legend": {
         "tracegroupgap": 0
        },
        "margin": {
         "t": 60
        },
        "template": {
         "data": {
          "bar": [
           {
            "error_x": {
             "color": "#2a3f5f"
            },
            "error_y": {
             "color": "#2a3f5f"
            },
            "marker": {
             "line": {
              "color": "#E5ECF6",
              "width": 0.5
             },
             "pattern": {
              "fillmode": "overlay",
              "size": 10,
              "solidity": 0.2
             }
            },
            "type": "bar"
           }
          ],
          "barpolar": [
           {
            "marker": {
             "line": {
              "color": "#E5ECF6",
              "width": 0.5
             },
             "pattern": {
              "fillmode": "overlay",
              "size": 10,
              "solidity": 0.2
             }
            },
            "type": "barpolar"
           }
          ],
          "carpet": [
           {
            "aaxis": {
             "endlinecolor": "#2a3f5f",
             "gridcolor": "white",
             "linecolor": "white",
             "minorgridcolor": "white",
             "startlinecolor": "#2a3f5f"
            },
            "baxis": {
             "endlinecolor": "#2a3f5f",
             "gridcolor": "white",
             "linecolor": "white",
             "minorgridcolor": "white",
             "startlinecolor": "#2a3f5f"
            },
            "type": "carpet"
           }
          ],
          "choropleth": [
           {
            "colorbar": {
             "outlinewidth": 0,
             "ticks": ""
            },
            "type": "choropleth"
           }
          ],
          "contour": [
           {
            "colorbar": {
             "outlinewidth": 0,
             "ticks": ""
            },
            "colorscale": [
             [
              0,
              "#0d0887"
             ],
             [
              0.1111111111111111,
              "#46039f"
             ],
             [
              0.2222222222222222,
              "#7201a8"
             ],
             [
              0.3333333333333333,
              "#9c179e"
             ],
             [
              0.4444444444444444,
              "#bd3786"
             ],
             [
              0.5555555555555556,
              "#d8576b"
             ],
             [
              0.6666666666666666,
              "#ed7953"
             ],
             [
              0.7777777777777778,
              "#fb9f3a"
             ],
             [
              0.8888888888888888,
              "#fdca26"
             ],
             [
              1,
              "#f0f921"
             ]
            ],
            "type": "contour"
           }
          ],
          "contourcarpet": [
           {
            "colorbar": {
             "outlinewidth": 0,
             "ticks": ""
            },
            "type": "contourcarpet"
           }
          ],
          "heatmap": [
           {
            "colorbar": {
             "outlinewidth": 0,
             "ticks": ""
            },
            "colorscale": [
             [
              0,
              "#0d0887"
             ],
             [
              0.1111111111111111,
              "#46039f"
             ],
             [
              0.2222222222222222,
              "#7201a8"
             ],
             [
              0.3333333333333333,
              "#9c179e"
             ],
             [
              0.4444444444444444,
              "#bd3786"
             ],
             [
              0.5555555555555556,
              "#d8576b"
             ],
             [
              0.6666666666666666,
              "#ed7953"
             ],
             [
              0.7777777777777778,
              "#fb9f3a"
             ],
             [
              0.8888888888888888,
              "#fdca26"
             ],
             [
              1,
              "#f0f921"
             ]
            ],
            "type": "heatmap"
           }
          ],
          "heatmapgl": [
           {
            "colorbar": {
             "outlinewidth": 0,
             "ticks": ""
            },
            "colorscale": [
             [
              0,
              "#0d0887"
             ],
             [
              0.1111111111111111,
              "#46039f"
             ],
             [
              0.2222222222222222,
              "#7201a8"
             ],
             [
              0.3333333333333333,
              "#9c179e"
             ],
             [
              0.4444444444444444,
              "#bd3786"
             ],
             [
              0.5555555555555556,
              "#d8576b"
             ],
             [
              0.6666666666666666,
              "#ed7953"
             ],
             [
              0.7777777777777778,
              "#fb9f3a"
             ],
             [
              0.8888888888888888,
              "#fdca26"
             ],
             [
              1,
              "#f0f921"
             ]
            ],
            "type": "heatmapgl"
           }
          ],
          "histogram": [
           {
            "marker": {
             "pattern": {
              "fillmode": "overlay",
              "size": 10,
              "solidity": 0.2
             }
            },
            "type": "histogram"
           }
          ],
          "histogram2d": [
           {
            "colorbar": {
             "outlinewidth": 0,
             "ticks": ""
            },
            "colorscale": [
             [
              0,
              "#0d0887"
             ],
             [
              0.1111111111111111,
              "#46039f"
             ],
             [
              0.2222222222222222,
              "#7201a8"
             ],
             [
              0.3333333333333333,
              "#9c179e"
             ],
             [
              0.4444444444444444,
              "#bd3786"
             ],
             [
              0.5555555555555556,
              "#d8576b"
             ],
             [
              0.6666666666666666,
              "#ed7953"
             ],
             [
              0.7777777777777778,
              "#fb9f3a"
             ],
             [
              0.8888888888888888,
              "#fdca26"
             ],
             [
              1,
              "#f0f921"
             ]
            ],
            "type": "histogram2d"
           }
          ],
          "histogram2dcontour": [
           {
            "colorbar": {
             "outlinewidth": 0,
             "ticks": ""
            },
            "colorscale": [
             [
              0,
              "#0d0887"
             ],
             [
              0.1111111111111111,
              "#46039f"
             ],
             [
              0.2222222222222222,
              "#7201a8"
             ],
             [
              0.3333333333333333,
              "#9c179e"
             ],
             [
              0.4444444444444444,
              "#bd3786"
             ],
             [
              0.5555555555555556,
              "#d8576b"
             ],
             [
              0.6666666666666666,
              "#ed7953"
             ],
             [
              0.7777777777777778,
              "#fb9f3a"
             ],
             [
              0.8888888888888888,
              "#fdca26"
             ],
             [
              1,
              "#f0f921"
             ]
            ],
            "type": "histogram2dcontour"
           }
          ],
          "mesh3d": [
           {
            "colorbar": {
             "outlinewidth": 0,
             "ticks": ""
            },
            "type": "mesh3d"
           }
          ],
          "parcoords": [
           {
            "line": {
             "colorbar": {
              "outlinewidth": 0,
              "ticks": ""
             }
            },
            "type": "parcoords"
           }
          ],
          "pie": [
           {
            "automargin": true,
            "type": "pie"
           }
          ],
          "scatter": [
           {
            "fillpattern": {
             "fillmode": "overlay",
             "size": 10,
             "solidity": 0.2
            },
            "type": "scatter"
           }
          ],
          "scatter3d": [
           {
            "line": {
             "colorbar": {
              "outlinewidth": 0,
              "ticks": ""
             }
            },
            "marker": {
             "colorbar": {
              "outlinewidth": 0,
              "ticks": ""
             }
            },
            "type": "scatter3d"
           }
          ],
          "scattercarpet": [
           {
            "marker": {
             "colorbar": {
              "outlinewidth": 0,
              "ticks": ""
             }
            },
            "type": "scattercarpet"
           }
          ],
          "scattergeo": [
           {
            "marker": {
             "colorbar": {
              "outlinewidth": 0,
              "ticks": ""
             }
            },
            "type": "scattergeo"
           }
          ],
          "scattergl": [
           {
            "marker": {
             "colorbar": {
              "outlinewidth": 0,
              "ticks": ""
             }
            },
            "type": "scattergl"
           }
          ],
          "scattermapbox": [
           {
            "marker": {
             "colorbar": {
              "outlinewidth": 0,
              "ticks": ""
             }
            },
            "type": "scattermapbox"
           }
          ],
          "scatterpolar": [
           {
            "marker": {
             "colorbar": {
              "outlinewidth": 0,
              "ticks": ""
             }
            },
            "type": "scatterpolar"
           }
          ],
          "scatterpolargl": [
           {
            "marker": {
             "colorbar": {
              "outlinewidth": 0,
              "ticks": ""
             }
            },
            "type": "scatterpolargl"
           }
          ],
          "scatterternary": [
           {
            "marker": {
             "colorbar": {
              "outlinewidth": 0,
              "ticks": ""
             }
            },
            "type": "scatterternary"
           }
          ],
          "surface": [
           {
            "colorbar": {
             "outlinewidth": 0,
             "ticks": ""
            },
            "colorscale": [
             [
              0,
              "#0d0887"
             ],
             [
              0.1111111111111111,
              "#46039f"
             ],
             [
              0.2222222222222222,
              "#7201a8"
             ],
             [
              0.3333333333333333,
              "#9c179e"
             ],
             [
              0.4444444444444444,
              "#bd3786"
             ],
             [
              0.5555555555555556,
              "#d8576b"
             ],
             [
              0.6666666666666666,
              "#ed7953"
             ],
             [
              0.7777777777777778,
              "#fb9f3a"
             ],
             [
              0.8888888888888888,
              "#fdca26"
             ],
             [
              1,
              "#f0f921"
             ]
            ],
            "type": "surface"
           }
          ],
          "table": [
           {
            "cells": {
             "fill": {
              "color": "#EBF0F8"
             },
             "line": {
              "color": "white"
             }
            },
            "header": {
             "fill": {
              "color": "#C8D4E3"
             },
             "line": {
              "color": "white"
             }
            },
            "type": "table"
           }
          ]
         },
         "layout": {
          "annotationdefaults": {
           "arrowcolor": "#2a3f5f",
           "arrowhead": 0,
           "arrowwidth": 1
          },
          "autotypenumbers": "strict",
          "coloraxis": {
           "colorbar": {
            "outlinewidth": 0,
            "ticks": ""
           }
          },
          "colorscale": {
           "diverging": [
            [
             0,
             "#8e0152"
            ],
            [
             0.1,
             "#c51b7d"
            ],
            [
             0.2,
             "#de77ae"
            ],
            [
             0.3,
             "#f1b6da"
            ],
            [
             0.4,
             "#fde0ef"
            ],
            [
             0.5,
             "#f7f7f7"
            ],
            [
             0.6,
             "#e6f5d0"
            ],
            [
             0.7,
             "#b8e186"
            ],
            [
             0.8,
             "#7fbc41"
            ],
            [
             0.9,
             "#4d9221"
            ],
            [
             1,
             "#276419"
            ]
           ],
           "sequential": [
            [
             0,
             "#0d0887"
            ],
            [
             0.1111111111111111,
             "#46039f"
            ],
            [
             0.2222222222222222,
             "#7201a8"
            ],
            [
             0.3333333333333333,
             "#9c179e"
            ],
            [
             0.4444444444444444,
             "#bd3786"
            ],
            [
             0.5555555555555556,
             "#d8576b"
            ],
            [
             0.6666666666666666,
             "#ed7953"
            ],
            [
             0.7777777777777778,
             "#fb9f3a"
            ],
            [
             0.8888888888888888,
             "#fdca26"
            ],
            [
             1,
             "#f0f921"
            ]
           ],
           "sequentialminus": [
            [
             0,
             "#0d0887"
            ],
            [
             0.1111111111111111,
             "#46039f"
            ],
            [
             0.2222222222222222,
             "#7201a8"
            ],
            [
             0.3333333333333333,
             "#9c179e"
            ],
            [
             0.4444444444444444,
             "#bd3786"
            ],
            [
             0.5555555555555556,
             "#d8576b"
            ],
            [
             0.6666666666666666,
             "#ed7953"
            ],
            [
             0.7777777777777778,
             "#fb9f3a"
            ],
            [
             0.8888888888888888,
             "#fdca26"
            ],
            [
             1,
             "#f0f921"
            ]
           ]
          },
          "colorway": [
           "#636efa",
           "#EF553B",
           "#00cc96",
           "#ab63fa",
           "#FFA15A",
           "#19d3f3",
           "#FF6692",
           "#B6E880",
           "#FF97FF",
           "#FECB52"
          ],
          "font": {
           "color": "#2a3f5f"
          },
          "geo": {
           "bgcolor": "white",
           "lakecolor": "white",
           "landcolor": "#E5ECF6",
           "showlakes": true,
           "showland": true,
           "subunitcolor": "white"
          },
          "hoverlabel": {
           "align": "left"
          },
          "hovermode": "closest",
          "mapbox": {
           "style": "light"
          },
          "paper_bgcolor": "white",
          "plot_bgcolor": "#E5ECF6",
          "polar": {
           "angularaxis": {
            "gridcolor": "white",
            "linecolor": "white",
            "ticks": ""
           },
           "bgcolor": "#E5ECF6",
           "radialaxis": {
            "gridcolor": "white",
            "linecolor": "white",
            "ticks": ""
           }
          },
          "scene": {
           "xaxis": {
            "backgroundcolor": "#E5ECF6",
            "gridcolor": "white",
            "gridwidth": 2,
            "linecolor": "white",
            "showbackground": true,
            "ticks": "",
            "zerolinecolor": "white"
           },
           "yaxis": {
            "backgroundcolor": "#E5ECF6",
            "gridcolor": "white",
            "gridwidth": 2,
            "linecolor": "white",
            "showbackground": true,
            "ticks": "",
            "zerolinecolor": "white"
           },
           "zaxis": {
            "backgroundcolor": "#E5ECF6",
            "gridcolor": "white",
            "gridwidth": 2,
            "linecolor": "white",
            "showbackground": true,
            "ticks": "",
            "zerolinecolor": "white"
           }
          },
          "shapedefaults": {
           "line": {
            "color": "#2a3f5f"
           }
          },
          "ternary": {
           "aaxis": {
            "gridcolor": "white",
            "linecolor": "white",
            "ticks": ""
           },
           "baxis": {
            "gridcolor": "white",
            "linecolor": "white",
            "ticks": ""
           },
           "bgcolor": "#E5ECF6",
           "caxis": {
            "gridcolor": "white",
            "linecolor": "white",
            "ticks": ""
           }
          },
          "title": {
           "x": 0.05
          },
          "xaxis": {
           "automargin": true,
           "gridcolor": "white",
           "linecolor": "white",
           "ticks": "",
           "title": {
            "standoff": 15
           },
           "zerolinecolor": "white",
           "zerolinewidth": 2
          },
          "yaxis": {
           "automargin": true,
           "gridcolor": "white",
           "linecolor": "white",
           "ticks": "",
           "title": {
            "standoff": 15
           },
           "zerolinecolor": "white",
           "zerolinewidth": 2
          }
         }
        },
        "xaxis": {
         "anchor": "y",
         "domain": [
          0,
          1
         ],
         "title": {
          "text": "x"
         }
        },
        "yaxis": {
         "anchor": "x",
         "domain": [
          0,
          1
         ],
         "title": {
          "text": "y"
         }
        }
       }
      }
     },
     "metadata": {},
     "output_type": "display_data"
    }
   ],
   "source": [
    "# Graficar los embedddings en 2D\n",
    "import plotly.graph_objects as go\n",
    "import plotly.express as px\n",
    "\n",
    "x_vals, y_vals, labels = reduce_dimensions(w2v_model)\n",
    "\n",
    "MAX_WORDS=200\n",
    "fig = px.scatter(x=x_vals[:MAX_WORDS], y=y_vals[:MAX_WORDS], text=labels[:MAX_WORDS])\n",
    "fig.show()"
   ]
  },
  {
   "attachments": {},
   "cell_type": "markdown",
   "metadata": {
    "id": "yMM_SHSaZ9N-"
   },
   "source": [
    "### Alumno"
   ]
  },
  {
   "attachments": {},
   "cell_type": "markdown",
   "metadata": {
    "id": "WivQZ3ZCZ9N_"
   },
   "source": [
    "- Crear sus propios vectores con Gensim basado en lo visto en clase con otro dataset.\n",
    "- Probar términos de interés y explicar similitudes en el espacio de embeddings (sacar conclusiones entre palabras similitudes y diferencias).\n",
    "- Graficarlos.\n",
    "- Obtener conclusiones."
   ]
  },
  {
   "attachments": {},
   "cell_type": "markdown",
   "metadata": {},
   "source": [
    "Se realizan los embeddings utilzando un dataset de Fake news. En general, puede observarse que el resultado obtenido parece tener sentido. Se puede visualizar como los términos búscados en el espacio de embeddings devuelven similitudes altas con palabras relacionadas (Por ejemplo: números con números y money con cash o laundering). \n",
    "\n",
    "Es interesante notar como también el modelo relaciona nombres de personas con términos políticos (por ejemplo bernie-sanders-republican-democrat-party son todas palabras que se encuentran muy cercanas en el espacio de embeddings). Esto nuevamente muestra que el modelo está funcionando como se espera, términos similares son considerados de esta manera por el modelo. Sin embargo, también se puede remarcar que, en este caso, solo puede deducirse que bernie sanders es una persona ligada a la política, pero si se quisiera entender en particular su afinidad política, el embedding no es capaz de distinguirlo (asume ambos partidos como equidistantes). Según el objetivo que se tenga puede necesitarse entrenar al embedding de otra manera."
   ]
  }
 ],
 "metadata": {
  "colab": {
   "collapsed_sections": [],
   "provenance": []
  },
  "kernelspec": {
   "display_name": "Python 3 (ipykernel)",
   "language": "python",
   "name": "python3"
  },
  "language_info": {
   "codemirror_mode": {
    "name": "ipython",
    "version": 3
   },
   "file_extension": ".py",
   "mimetype": "text/x-python",
   "name": "python",
   "nbconvert_exporter": "python",
   "pygments_lexer": "ipython3",
   "version": "3.10.11"
  }
 },
 "nbformat": 4,
 "nbformat_minor": 4
}
